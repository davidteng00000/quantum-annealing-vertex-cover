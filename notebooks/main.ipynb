{
  "cells": [
    {
      "cell_type": "markdown",
      "metadata": {
        "id": "uWH0fKbBPJgn"
      },
      "source": [
        "## QUBO 簡介\n",
        "QUBO 是一種二元優化問題的表達形式，目標是透過調整一組二元變數來最小化一個二次目標函數。QUBO 主要形式如下：\n",
        "​$f(x)=\\Sigma_i Q_{ii}x_i+\\Sigma{i<j}Q_{ij}x_i x_j$\n",
        "其中：\n",
        "$x_i$​ 為二元變數（0 或 1）。\n",
        "$Q_{ii}$ 和 $Q_{ij}$​ 是 Q 矩陣中的係數。\n",
        "\n",
        "QUBO 常應用於組合優化問題，如最大割 (Max-Cut)、旅行推銷員問題 (TSP)，以及子集和問題 (Subset Sum Problem)。"
      ]
    },
    {
      "attachments": {
        "image.png": {
          "image/png": "[encoded data removed]"
        }
      },
      "cell_type": "markdown",
      "metadata": {
        "id": "0AGsdJj7beMc"
      },
      "source": [
        "## Vertex Cover Problem\n",
        "圖的覆蓋是一個頂點的集合，使圖中的每一條邊都至少連結該集合中的一個頂點。尋找最小的頂點覆蓋的問題稱為頂點覆蓋問題（Vertex cover），它是一個NP完全問題。\n",
        "假設有一無向圖 $G = (V, E)$，其中 $V$ 為頂點集合，$E$ 為邊集合。頂點覆蓋是指從 $V$ 中選出一個子集 $C \\subseteq V$，使得圖中每條邊 $e = (u, v)$ 至少有一個端點屬於 $C$。也就是說，對於所有邊 $(u,v) \\in E$，必有 $u \\in C$ 或 $v \\in C$（或兩者皆屬）。\n",
        "\n",
        "下圖是兩個頂點覆蓋問題的範例，紅點表示對於該圖來說的某個頂點覆蓋集合。 QUBO 的目標是求使用最少個頂點形成一個頂點覆蓋集。\n",
        "\n",
        "![image.png](attachment:image.png)\n",
        "\n",
        "## 期中專案\n",
        "期中專案請大家利用量子退火求解頂點覆蓋問題。程式至少能夠解決 keller4.mis 資料集，keller4 的最小覆蓋集是使用 160 個頂點，程式應該要輸出使用的頂點個數為 160。\n",
        "\n",
        "報告書應包含：\n",
        "1. 問題說明\n",
        "2. QUBO 公式\n",
        "3. 實驗結果\n",
        "4. 心得\n",
        "\n",
        "\\\\\n",
        "\n",
        "其餘不拘。\n",
        "\n",
        "### 評分標準\n",
        "- 正確寫出 QUBO，並且能解決 keller4.mis 資料集 (40%)\n",
        "- 問題描述和如何寫成 QUBO (15%)\n",
        "- 說明實驗結果，實驗結果要比較使用的頂點個數（越少越好）。(10%)\n",
        "- 解決 ee-class 上的其他資料集，有些資料集比較困難的可能需要嘗試調整 QUBO 權重，呈現在實驗結果當中，並說明使用哪些技巧進行實驗以及對結果的影響（如果有的話）(20%)\n",
        "- 結論與心得(15%)\n",
        "\n",
        "### 其他資料集\n",
        "包含 keller4.mis 在內，我們還提供了另外五個資料集，作為 20% 中的分數，分別為 keller5、keller6、p_hat300-1、p_hat700-1和p_hat1500-1，這些資料集會上傳到 ee-class 作業區的 dataset.zip 中。\n",
        "\n",
        "\n",
        "\n",
        "請利用這些資料集進行實驗，提出一個方法改進 QUBO 求解 VCP 的結果，在報告中說明你提出的方法，以及對於頂點覆蓋集的大小和結果有什麼影響。"
      ]
    },
    {
      "cell_type": "markdown",
      "metadata": {
        "id": "RA9T1vPVJ8PY"
      },
      "source": [
        "### 資料集\n",
        "資料的形式為 Edge List，以 keller4.mis 為例，部分資料如下，第一行是 `p edge 點的數量 邊的數量`，接著每一行描述一個邊所連接的兩個頂點 `e 頂點 頂點`。\n",
        "\n",
        "keller4.mis 資料集：\n",
        "```\n",
        "p edge 171 5100                                   \n",
        "e 1 2\n",
        "e 1 3\n",
        "e 1 4\n",
        "e 1 5\n",
        "e 1 6\n",
        "e 1 7\n",
        "e 1 9\n",
        "e 1 10\n",
        "e 1 11\n",
        "e 1 18\n",
        "e 1 28\n",
        "e 1 29\n",
        "e 1 31\n",
        "e 1 32\n",
        ".\n",
        ".\n",
        ".\n",
        "```\n",
        "\n",
        "下列程式碼將呈現如何讀入資料集，並且建構該圖的 networkx Grahp 物件。\n",
        "networkx 是一個 python 套件，主要用來分析圖、網路等。我們將使用這個套件來儲存圖。\n",
        "Network x: https://networkx.org/"
      ]
    },
    {
      "cell_type": "code",
      "execution_count": 2,
      "metadata": {
        "id": "unC9oTuzMY-0"
      },
      "outputs": [],
      "source": [
        "import os, time\n",
        "import networkx as nx\n",
        "from pyqubo import Binary\n",
        "from dwave.samplers import SimulatedAnnealingSampler, TabuSampler\n",
        "from dwave.system import DWaveSampler, EmbeddingComposite"
      ]
    },
    {
      "cell_type": "markdown",
      "metadata": {},
      "source": [
        "# solve"
      ]
    },
    {
      "cell_type": "markdown",
      "metadata": {},
      "source": [
        "## keller4\n",
        "* 這一段程式執行後不一定會得到最佳解 (160) \n",
        "* 但後續的 code (# Solve all datasets這邊) 有作優化並且可以穩定找到最佳解 "
      ]
    },
    {
      "cell_type": "code",
      "execution_count": 4,
      "metadata": {
        "id": "2SrbZRWvbZAT"
      },
      "outputs": [
        {
          "name": "stdout",
          "output_type": "stream",
          "text": [
            "頂點數 |V| = 171\n",
            "邊數   |E| = 5100\n"
          ]
        }
      ],
      "source": [
        "path = '../dataset/keller4.mis'\n",
        "edges = []\n",
        "\n",
        "with open(path) as f:\n",
        "    for line in f:\n",
        "        tokens = line.strip().split()\n",
        "        if tokens[0] != 'e':\n",
        "            continue\n",
        "        u, v = map(int, tokens[1:3])\n",
        "        edges.append((u, v))\n",
        "\n",
        "G = nx.Graph()\n",
        "G.add_edges_from(edges)\n",
        "\n",
        "print(f\"頂點數 |V| = {G.number_of_nodes()}\")\n",
        "print(f\"邊數   |E| = {G.number_of_edges()}\")"
      ]
    },
    {
      "cell_type": "code",
      "execution_count": 5,
      "metadata": {},
      "outputs": [],
      "source": [
        "# networkx 讀進來的頂點編號可能從 1 開始；用一個 dict 做映射會最直觀\n",
        "idx_map = {node: i for i, node in enumerate(G.nodes())}   # node → 0..n-1\n",
        "n = len(idx_map)\n",
        "\n",
        "# 建 n 個二元變數\n",
        "x = [Binary(f\"x{i}\") for i in range(n)]"
      ]
    },
    {
      "cell_type": "code",
      "execution_count": 6,
      "metadata": {},
      "outputs": [],
      "source": [
        "\n",
        "lam = 250\n",
        "\n",
        "cost_term = sum(x[i] for i in range(n))\n",
        "\n",
        "# penalty term: 對每一條邊 (u,v)，加入懲罰\n",
        "penalty_term = sum(\n",
        "    1 - x[idx_map[u]] - x[idx_map[v]] + x[idx_map[u]] * x[idx_map[v]]\n",
        "    for u, v in edges\n",
        ")\n",
        "\n",
        "H = cost_term + lam * penalty_term\n"
      ]
    },
    {
      "cell_type": "code",
      "execution_count": 7,
      "metadata": {},
      "outputs": [],
      "source": [
        "model = H.compile()\n",
        "Q, offset = model.to_qubo()"
      ]
    },
    {
      "cell_type": "code",
      "execution_count": 18,
      "metadata": {},
      "outputs": [
        {
          "name": "stdout",
          "output_type": "stream",
          "text": [
            "best solution:  {'x0': 1, 'x1': 1, 'x10': 1, 'x100': 1, 'x101': 1, 'x102': 1, 'x103': 1, 'x104': 1, 'x105': 1, 'x106': 1, 'x107': 1, 'x108': 1, 'x109': 1, 'x11': 1, 'x110': 1, 'x111': 1, 'x112': 1, 'x113': 1, 'x114': 1, 'x115': 1, 'x116': 1, 'x117': 0, 'x118': 0, 'x119': 1, 'x12': 0, 'x120': 1, 'x121': 1, 'x122': 1, 'x123': 1, 'x124': 1, 'x125': 0, 'x126': 1, 'x127': 0, 'x128': 1, 'x129': 1, 'x13': 1, 'x130': 1, 'x131': 1, 'x132': 1, 'x133': 1, 'x134': 1, 'x135': 1, 'x136': 1, 'x137': 1, 'x138': 1, 'x139': 1, 'x14': 1, 'x140': 1, 'x141': 1, 'x142': 1, 'x143': 1, 'x144': 1, 'x145': 1, 'x146': 0, 'x147': 1, 'x148': 1, 'x149': 1, 'x15': 1, 'x150': 1, 'x151': 1, 'x152': 1, 'x153': 1, 'x154': 1, 'x155': 1, 'x156': 1, 'x157': 1, 'x158': 1, 'x159': 1, 'x16': 1, 'x160': 1, 'x161': 1, 'x162': 1, 'x163': 0, 'x164': 1, 'x165': 1, 'x166': 1, 'x167': 1, 'x168': 1, 'x169': 1, 'x17': 1, 'x170': 1, 'x18': 1, 'x19': 1, 'x2': 1, 'x20': 1, 'x21': 1, 'x22': 1, 'x23': 1, 'x24': 1, 'x25': 1, 'x26': 1, 'x27': 1, 'x28': 1, 'x29': 1, 'x3': 1, 'x30': 1, 'x31': 1, 'x32': 1, 'x33': 1, 'x34': 1, 'x35': 1, 'x36': 1, 'x37': 1, 'x38': 1, 'x39': 1, 'x4': 1, 'x40': 1, 'x41': 1, 'x42': 1, 'x43': 1, 'x44': 1, 'x45': 1, 'x46': 1, 'x47': 1, 'x48': 1, 'x49': 1, 'x5': 0, 'x50': 0, 'x51': 1, 'x52': 1, 'x53': 1, 'x54': 1, 'x55': 1, 'x56': 1, 'x57': 1, 'x58': 1, 'x59': 1, 'x6': 1, 'x60': 1, 'x61': 1, 'x62': 1, 'x63': 1, 'x64': 0, 'x65': 1, 'x66': 1, 'x67': 1, 'x68': 1, 'x69': 1, 'x7': 1, 'x70': 1, 'x71': 1, 'x72': 1, 'x73': 1, 'x74': 1, 'x75': 1, 'x76': 1, 'x77': 1, 'x78': 1, 'x79': 1, 'x8': 1, 'x80': 1, 'x81': 1, 'x82': 1, 'x83': 1, 'x84': 1, 'x85': 1, 'x86': 1, 'x87': 1, 'x88': 1, 'x89': 1, 'x9': 0, 'x90': 1, 'x91': 1, 'x92': 1, 'x93': 1, 'x94': 1, 'x95': 1, 'x96': 1, 'x97': 1, 'x98': 1, 'x99': 1}\n",
            "Hamiltonian:  160.0\n"
          ]
        }
      ],
      "source": [
        "sampler = SimulatedAnnealingSampler()\n",
        "sampleset = sampler.sample_qubo(Q, num_reads=1000, sweeps=10000) \n",
        "\n",
        "best = sampleset.first.sample  \n",
        "best_energy = sampleset.first.energy + offset \n",
        "print(\"best solution: \", best)\n",
        "print(\"Hamiltonian: \", best_energy)"
      ]
    },
    {
      "cell_type": "code",
      "execution_count": 19,
      "metadata": {},
      "outputs": [
        {
          "name": "stdout",
          "output_type": "stream",
          "text": [
            "valid solution:  True\n",
            "total nodes = 160\n"
          ]
        }
      ],
      "source": [
        "# check if the solution is valid\n",
        "valid = True\n",
        "for u, v in edges:\n",
        "    if best[f\"x{idx_map[u]}\"] + best[f\"x{idx_map[v]}\"] == 0:\n",
        "        valid = False\n",
        "        break\n",
        "print(\"valid solution: \", valid)\n",
        "\n",
        "# check the number of nodes in the solution\n",
        "total = 0\n",
        "for i in range(n):\n",
        "    if best[f'x{i}'] == 1:\n",
        "        total += 1\n",
        "print(f\"total nodes = {total}\")"
      ]
    },
    {
      "cell_type": "markdown",
      "metadata": {},
      "source": [
        "# Solve all datasets"
      ]
    },
    {
      "cell_type": "markdown",
      "metadata": {},
      "source": [
        "### define functions"
      ]
    },
    {
      "cell_type": "code",
      "execution_count": null,
      "metadata": {},
      "outputs": [],
      "source": [
        "import os, time\n",
        "import networkx as nx\n",
        "from pyqubo import Binary\n",
        "from dwave.samplers import SimulatedAnnealingSampler, TabuSampler\n",
        "from dwave.system import DWaveSampler, EmbeddingComposite\n",
        "\n",
        "DATA_DIR = \"../dataset\"\n",
        "def load_dimacs(path):\n",
        "    \"\"\"讀取 .mis 檔案，回傳 networkx.Graph 與邊清單\"\"\"\n",
        "    edges = []\n",
        "    with open(path) as f:\n",
        "        for line in f:\n",
        "            if line.startswith('e '):\n",
        "                _, u, v = line.split()\n",
        "                edges.append((int(u), int(v)))\n",
        "    G = nx.Graph();  G.add_edges_from(edges)\n",
        "    return G, edges\n",
        "\n",
        "def build_qubo(edges, n, lam):\n",
        "    \"\"\"以稀疏懲罰 1‑xu‑xv+xu*xv 建 QUBO\"\"\"\n",
        "    x = [Binary(f\"x{i}\") for i in range(n)]\n",
        "    idx = {v: i for i, v in enumerate(range(1, n+1))}  # DIMACS 節點從 1 起\n",
        "    cost = sum(x)                                       # Σ x_i\n",
        "    penalty = sum(1 - x[idx[u]] - x[idx[v]] + x[idx[u]] * x[idx[v]]\n",
        "                  for u, v in edges)\n",
        "    H = cost + lam * penalty\n",
        "    Q, off = H.compile().to_qubo()\n",
        "    return Q, off\n",
        "\n",
        "def greedy_cleanup(sample, edges, n):\n",
        "    \"\"\"嘗試刪除冗餘頂點，維持覆蓋合法\"\"\"\n",
        "    cover = {i for i in range(n) if sample[f\"x{i}\"] == 1}\n",
        "    adj = [[] for _ in range(n)]\n",
        "    for u, v in edges:\n",
        "        adj[u-1].append(v-1); adj[v-1].append(u-1)\n",
        "    for v in list(cover):\n",
        "        cover.remove(v)\n",
        "        if all((e[0]-1 in cover) or (e[1]-1 in cover) for e in edges):\n",
        "            continue\n",
        "        cover.add(v)\n",
        "    return cover\n",
        "\n",
        "def solve_instance(name, node_num, edge_num, sampler_kind, reads, lam=None, c=None, sweeps=None, timeout=None, beta_range=None, beta_schedule_type=None):\n",
        "    path = os.path.join(DATA_DIR, name)\n",
        "    G, edges = load_dimacs(path)\n",
        "    n = G.number_of_nodes()\n",
        "    if node_num != n:\n",
        "        raise ValueError(f\"節點數不正確！{node_num} != {n}\")\n",
        "    if len(edges) != edge_num:\n",
        "        raise ValueError(f\"邊數不正確！{len(edges)} != {len(G.edges())}\")\n",
        "    if lam is None:\n",
        "        lam = (len(edges) / n) * c\n",
        "    Q, off = build_qubo(edges, n, lam)\n",
        "\n",
        "    if sampler_kind == \"SA\":\n",
        "        sampler = SimulatedAnnealingSampler()\n",
        "        if beta_range is None and beta_schedule_type is None:\n",
        "            kwargs = {\n",
        "                'num_reads': reads,\n",
        "                'num_sweeps': sweeps or 10000,\n",
        "            }\n",
        "        else:\n",
        "            kwargs = {\n",
        "                'num_reads': reads,\n",
        "                'num_sweeps': sweeps or 10000,\n",
        "                'beta_range': beta_range or [0.01, 20],\n",
        "                'beta_schedule_type': beta_schedule_type\n",
        "            }\n",
        "        if sweeps: kwargs[\"num_sweeps\"] = sweeps\n",
        "    elif sampler_kind == \"QPU\":\n",
        "        sampler = EmbeddingComposite(DWaveSampler())\n",
        "        kwargs = dict(num_reads=reads) \n",
        "\n",
        "    else:\n",
        "        sampler = TabuSampler()\n",
        "        kwargs = dict(num_reads=reads, timeout=timeout)\n",
        "\n",
        "    t0 = time.time()\n",
        "    result = sampler.sample_qubo(Q, **kwargs)\n",
        "    best = result.first.sample\n",
        "    raw_size = sum(best[f\"x{i}\"] for i in range(n))\n",
        "    cover = greedy_cleanup(best, edges, n)\n",
        "    t1 = time.time()\n",
        "    # free memory\n",
        "    del G, Q, off, result, best\n",
        "    import gc\n",
        "\n",
        "    # 每次 loop 後強制清除垃圾回收\n",
        "    gc.collect()\n",
        "    return {\n",
        "        \"name\": name,\n",
        "        \"reads\": reads,\n",
        "        \"sweeps\": sweeps,\n",
        "        \"nodes\": node_num,\n",
        "        \"edges\": edge_num,\n",
        "        \"lam\": round(lam, 2),\n",
        "        \"c\": c,\n",
        "        \"MVC\": len(cover),\n",
        "        \"MVC_raw\": raw_size,\n",
        "        \"valid\": all((u-1 in cover) or (v-1 in cover) for u, v in edges),\n",
        "        \"time_sec\": round(t1 - t0, 1)\n",
        "    }\n",
        "\n"
      ]
    },
    {
      "cell_type": "markdown",
      "metadata": {},
      "source": [
        "### solve"
      ]
    },
    {
      "cell_type": "code",
      "execution_count": 9,
      "metadata": {},
      "outputs": [
        {
          "name": "stdout",
          "output_type": "stream",
          "text": [
            "\n",
            "▶ Solving keller4.mis  …\n",
            "{'name': 'keller4.mis', 'reads': 2000, 'sweeps': 1000, 'nodes': 171, 'edges': 5100, 'lam': 149.12, 'c': 5, 'MVC': 160, 'MVC_raw': 160, 'valid': True, 'time_sec': 0.7}\n",
            "\n",
            "▶ Solving keller5.mis  …\n",
            "{'name': 'keller5.mis', 'reads': 2000, 'sweeps': 2000, 'nodes': 776, 'edges': 74710, 'lam': 481.38, 'c': 5, 'MVC': 749, 'MVC_raw': 749, 'valid': True, 'time_sec': 6.0}\n",
            "\n",
            "▶ Solving keller6.mis  …\n",
            "{'name': 'keller6.mis', 'reads': 5000, 'sweeps': 5000, 'nodes': 3361, 'edges': 1026582, 'lam': 1527.2, 'c': 5, 'MVC': 3305, 'MVC_raw': 3305, 'valid': True, 'time_sec': 199.9}\n",
            "\n",
            "▶ Solving p_hat300-1.mis  …\n",
            "{'name': 'p_hat300-1.mis', 'reads': 1000, 'sweeps': 2500, 'nodes': 300, 'edges': 33917, 'lam': 565.28, 'c': 5, 'MVC': 292, 'MVC_raw': 292, 'valid': True, 'time_sec': 1.3}\n",
            "\n",
            "▶ Solving p_hat700-1.mis  …\n",
            "{'name': 'p_hat700-1.mis', 'reads': 1000, 'sweeps': 4000, 'nodes': 700, 'edges': 183651, 'lam': 1311.79, 'c': 5, 'MVC': 689, 'MVC_raw': 689, 'valid': True, 'time_sec': 6.4}\n",
            "\n",
            "▶ Solving p_hat1500-1.mis  …\n",
            "{'name': 'p_hat1500-1.mis', 'reads': 1000, 'sweeps': 6000, 'nodes': 1500, 'edges': 839327, 'lam': 2797.76, 'c': 5, 'MVC': 1488, 'MVC_raw': 1488, 'valid': True, 'time_sec': 48.8}\n",
            "\n",
            "===== SUMMARY =====\n",
            "| name        | MVC         | reads       | sweeps      | nodes       | edges       | lam         | c           | MVC_raw     | valid       | time_sec    | \n",
            "|-------------|-------------|-------------|-------------|-------------|-------------|-------------|-------------|-------------|-------------|-------------|\n",
            "| keller4.mis |         160 |        2000 |        1000 |         171 |        5100 |      149.12 |           5 |         160 |           1 |         0.7 | \n",
            "| keller5.mis |         749 |        2000 |        2000 |         776 |       74710 |      481.38 |           5 |         749 |           1 |         6.0 | \n",
            "| keller6.mis |        3305 |        5000 |        5000 |        3361 |     1026582 |      1527.2 |           5 |        3305 |           1 |       199.9 | \n",
            "| p_hat300-1.mis |         292 |        1000 |        2500 |         300 |       33917 |      565.28 |           5 |         292 |           1 |         1.3 | \n",
            "| p_hat700-1.mis |         689 |        1000 |        4000 |         700 |      183651 |     1311.79 |           5 |         689 |           1 |         6.4 | \n",
            "| p_hat1500-1.mis |        1488 |        1000 |        6000 |        1500 |      839327 |     2797.76 |           5 |        1488 |           1 |        48.8 | \n",
            "\n",
            "===== END =====\n",
            "\n",
            "\n"
          ]
        }
      ],
      "source": [
        "config = {\n",
        "    \"keller4.mis\": dict(\n",
        "        node_num=171,\n",
        "        edge_num=5100,\n",
        "        # lam=250,\n",
        "        c=5,\n",
        "        sampler_kind=\"SA\",\n",
        "        reads=2000,\n",
        "        sweeps=1000,\n",
        "        beta_range=[0.01, 20],\n",
        "        beta_schedule_type=\"linear\"\n",
        "    ),\n",
        "    \"keller5.mis\": dict(\n",
        "        node_num=776,\n",
        "        edge_num=74710,\n",
        "        # lam=800,\n",
        "        c=5,\n",
        "        sampler_kind=\"SA\",\n",
        "        reads=2000,\n",
        "        sweeps=2000,\n",
        "        beta_range=[0.01, 20],\n",
        "        beta_schedule_type=\"linear\"\n",
        "    ),\n",
        "    \"keller6.mis\": dict(\n",
        "        node_num=3361,\n",
        "        edge_num=1026582,\n",
        "        # lam=1600,\n",
        "        c=5,\n",
        "        sampler_kind=\"SA\",\n",
        "        reads=5000,\n",
        "        sweeps=5000,\n",
        "        beta_range=[0.01, 20],\n",
        "        beta_schedule_type=\"linear\"\n",
        "    ),\n",
        "    \"p_hat300-1.mis\": dict(\n",
        "        node_num=300,\n",
        "        edge_num=33917,\n",
        "        # lam=350,\n",
        "        c=5,\n",
        "        sampler_kind=\"SA\",\n",
        "        reads=1000,\n",
        "        sweeps=2500,\n",
        "        beta_range=[0.01, 20],\n",
        "        beta_schedule_type=\"linear\"\n",
        "    ),\n",
        "    \"p_hat700-1.mis\": dict(\n",
        "        node_num=700,\n",
        "        edge_num=183651,\n",
        "        # lam=700,\n",
        "        c=5,\n",
        "        sampler_kind=\"SA\",\n",
        "        reads=1000,\n",
        "        sweeps=4000,\n",
        "        beta_range=[0.01, 20],\n",
        "        beta_schedule_type=\"linear\"\n",
        "    ),\n",
        "    \"p_hat1500-1.mis\": dict(\n",
        "        node_num=1500,\n",
        "        edge_num=839327,\n",
        "        # lam=1500,\n",
        "        c=5,\n",
        "        sampler_kind=\"SA\",\n",
        "        reads=1000,\n",
        "        sweeps=6000,\n",
        "        beta_range=[0.01, 20],\n",
        "        beta_schedule_type=\"linear\"\n",
        "    )\n",
        "}\n",
        "\n",
        "\n",
        "\n",
        "results = {}\n",
        "for file, cfg in config.items():\n",
        "    print(f\"\\n▶ Solving {file}  …\")\n",
        "    res = solve_instance(file, **cfg)\n",
        "    results[file] = res\n",
        "    print(res)\n",
        "\n",
        "print(\"\\n===== SUMMARY =====\")\n",
        "# markdown table\n",
        "header = ['name', 'MVC', 'reads', 'sweeps', 'nodes', 'edges', 'lam', 'c', 'MVC_raw', 'valid', 'time_sec']\n",
        "print('| ', end='')\n",
        "for h in header:\n",
        "    print(f\"{h:11s}\", end=\" | \")\n",
        "print()\n",
        "print(f\"|{'-------------|'*(len(header))}\")\n",
        "for k,v in results.items():\n",
        "    # print(f\"{k:18s} | size={v['MVC_after_cleanup']:4} | raw={v['MVC_raw']:4} \"\n",
        "    #       f\"| valid={v['valid']} | {v['time_sec']}s\")\n",
        "    print(f\"| {k:11s}\", end=\" | \")\n",
        "    for h in header[1:]:\n",
        "        if h == 'name':\n",
        "            v[h] = v[h][0:8]\n",
        "        print(f\"{v[h]:>11}\", end=\" | \")\n",
        "    print()\n",
        "print()\n",
        "print(\"===== END =====\")\n",
        "print()\n",
        "print()"
      ]
    }
  ],
  "metadata": {
    "colab": {
      "provenance": []
    },
    "kernelspec": {
      "display_name": "Python 3",
      "language": "python",
      "name": "python3"
    },
    "language_info": {
      "codemirror_mode": {
        "name": "ipython",
        "version": 3
      },
      "file_extension": ".py",
      "mimetype": "text/x-python",
      "name": "python",
      "nbconvert_exporter": "python",
      "pygments_lexer": "ipython3",
      "version": "3.8.10"
    }
  },
  "nbformat": 4,
  "nbformat_minor": 0
}
